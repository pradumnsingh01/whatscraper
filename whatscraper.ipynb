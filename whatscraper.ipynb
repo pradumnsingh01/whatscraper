def whatscrapper(wadata):

    import numpy as np
    import pandas as pd
    import seaborn as sns
    import matplotlib.pyplot as plt
    
    pd.read_fwf
    
    def read_file(file):
        x = open(file, "r", encoding = "utf=8")
        y = x.read()
        content = y.splitlines()
        return content
    
    chat = read_file(wadata)
            
    for i in range(len(chat)):
        if chat[i][:1].isdigit():
            chat[i]= "$^" + chat[i]
    
    text = ""
    
    for i in range(len(chat)):
        text = text + chat[i]
        
    chat_1 = text.split("$^")
    
    chat_1 = chat_1[1:]
    
    date = []
    
    for i in chat_1:
        date.append(i[:16])
        
    df = pd.DataFrame()
    
    df["Date"] = date
    
    df["Date"] = df["Date"].apply(lambda x: pd.to_datetime(x, errors = "coerce", utc =True))
    
    import datetime
    import pytz
    
    def refactor_time(x):
        est = pytz.timezone("US/Eastern")
        return x.astimezone(est)
    
    df["Date"].apply(lambda x: refactor_time(x))
    
    
    content = []
    
    for i in chat_1:
        content.append(i[18:])
        
    contact = []
    
    content_seperated = []
    
    for i in content:
        content_seperated.append(i.split(":"))
    
    for i in content_seperated:
        contact.append(i[0])
    
    df["Contact"] = contact
    
    message = []
    
    for i in content_seperated:
        a = len(i)
        if a == 2:
            message.append(i[1])
        else:
            message.append(np.nan)
    
    df["Message"] = message
    
    return df
    return df.to_csv("Whatsapp_Data.csv")
      
    
    
    
    
    
    
    
    
    
    
    
    